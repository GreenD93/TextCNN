{
 "cells": [
  {
   "cell_type": "markdown",
   "metadata": {},
   "source": [
    "## Data Preparation"
   ]
  },
  {
   "cell_type": "code",
   "execution_count": 1,
   "metadata": {
    "pycharm": {
     "is_executing": false,
     "name": "#%%\n"
    }
   },
   "outputs": [
    {
     "name": "stdout",
     "output_type": "stream",
     "text": [
      "       prodNm  cleaned_prodNm\n",
      "label                        \n",
      "0        7132            7132\n",
      "1      153667          153667\n"
     ]
    },
    {
     "data": {
      "text/html": [
       "<div>\n",
       "<style scoped>\n",
       "    .dataframe tbody tr th:only-of-type {\n",
       "        vertical-align: middle;\n",
       "    }\n",
       "\n",
       "    .dataframe tbody tr th {\n",
       "        vertical-align: top;\n",
       "    }\n",
       "\n",
       "    .dataframe thead th {\n",
       "        text-align: right;\n",
       "    }\n",
       "</style>\n",
       "<table border=\"1\" class=\"dataframe\">\n",
       "  <thead>\n",
       "    <tr style=\"text-align: right;\">\n",
       "      <th></th>\n",
       "      <th>prodNm</th>\n",
       "      <th>cleaned_prodNm</th>\n",
       "      <th>label</th>\n",
       "    </tr>\n",
       "  </thead>\n",
       "  <tbody>\n",
       "    <tr>\n",
       "      <th>0</th>\n",
       "      <td>로얄단스크_버터쿠키/오트밀쿠키1kg/수입과자/간식</td>\n",
       "      <td>로얄단스크 버터쿠키 오트밀쿠키 kg 수입과자 간식</td>\n",
       "      <td>0</td>\n",
       "    </tr>\n",
       "    <tr>\n",
       "      <th>1</th>\n",
       "      <td>삼립 누네띠네12g 100입/사과맛쿠키/미니 꿀약과/삼립식품/과자</td>\n",
       "      <td>삼립 누네띠네 g 입 사과맛쿠키 미니 꿀약과 삼립식품 과자</td>\n",
       "      <td>0</td>\n",
       "    </tr>\n",
       "    <tr>\n",
       "      <th>2</th>\n",
       "      <td>식단조절 건강도시락 6종 6개 /칼로리 다운/</td>\n",
       "      <td>식단조절 건강도시락 종 개 칼로리 다운</td>\n",
       "      <td>0</td>\n",
       "    </tr>\n",
       "    <tr>\n",
       "      <th>3</th>\n",
       "      <td>들기름1.75리터/수입들깨100프로/업소기름/식당참기름</td>\n",
       "      <td>들기름 . 리터 수입들깨 프로 업소기름 식당참기름</td>\n",
       "      <td>0</td>\n",
       "    </tr>\n",
       "    <tr>\n",
       "      <th>4</th>\n",
       "      <td>식단조절 건강도시락 6종6개 /가벼운칼로리/여름준비/점심도시락</td>\n",
       "      <td>식단조절 건강도시락 종 개 가벼운칼로리 여름준비 점심도시락</td>\n",
       "      <td>0</td>\n",
       "    </tr>\n",
       "  </tbody>\n",
       "</table>\n",
       "</div>"
      ],
      "text/plain": [
       "                                 prodNm                    cleaned_prodNm  \\\n",
       "0           로얄단스크_버터쿠키/오트밀쿠키1kg/수입과자/간식       로얄단스크 버터쿠키 오트밀쿠키 kg 수입과자 간식   \n",
       "1  삼립 누네띠네12g 100입/사과맛쿠키/미니 꿀약과/삼립식품/과자  삼립 누네띠네 g 입 사과맛쿠키 미니 꿀약과 삼립식품 과자   \n",
       "2             식단조절 건강도시락 6종 6개 /칼로리 다운/             식단조절 건강도시락 종 개 칼로리 다운   \n",
       "3        들기름1.75리터/수입들깨100프로/업소기름/식당참기름       들기름 . 리터 수입들깨 프로 업소기름 식당참기름   \n",
       "4    식단조절 건강도시락 6종6개 /가벼운칼로리/여름준비/점심도시락  식단조절 건강도시락 종 개 가벼운칼로리 여름준비 점심도시락   \n",
       "\n",
       "   label  \n",
       "0      0  \n",
       "1      0  \n",
       "2      0  \n",
       "3      0  \n",
       "4      0  "
      ]
     },
     "execution_count": 1,
     "metadata": {},
     "output_type": "execute_result"
    }
   ],
   "source": [
    "import pandas as pd\n",
    "import re\n",
    "\n",
    "def check_title(title):\n",
    "    slash_cnt = title.count('/')\n",
    "    comma_cnt = title.count(',')\n",
    "    \n",
    "    if slash_cnt > 1 or comma_cnt > 1: \n",
    "        return 0\n",
    "    \n",
    "    else:\n",
    "        return 1\n",
    "\n",
    "def clean_title(title):\n",
    "    title = title.lower()\n",
    "    title = re.sub('gx','g x ',title)\n",
    "    title = re.sub('[0-9]+',' ',title)\n",
    "    title = re.sub('[\\[\\]()!?_~#!@$%^&*-+=<>,\\\"\\'/]',' ',title)\n",
    "    split_title = title.split(' ')\n",
    "    title = \" \".join([i for i in split_title if len(i) > 0])\n",
    "    \n",
    "    return title.strip()\n",
    "    \n",
    "title_df = pd.read_csv('data/가공식품_title_data.csv',  usecols = ['prodNm'], encoding='euc-kr')\n",
    "title_df['label'] = title_df['prodNm'].apply(lambda x : check_title(x))\n",
    "title_df['cleaned_prodNm'] = title_df['prodNm'].apply(lambda x : clean_title(x))\n",
    "title_df = title_df.drop_duplicates().reset_index(drop=True)\n",
    "\n",
    "print(title_df.groupby(['label']).count())\n",
    "\n",
    "# make train data \n",
    "false_data = title_df[(title_df['label'] == 0) & (~title_df['cleaned_prodNm'].str.contains('pqm'))]\n",
    "true_data = title_df[(title_df['label'] == 1) & (~title_df['cleaned_prodNm'].str.contains('pqm'))].sample(n = len(false_data), random_state=1)\n",
    "\n",
    "train_df = pd.concat([false_data, true_data])\n",
    "train_df.reset_index(drop=True, inplace=True)\n",
    "train_df = train_df[['prodNm','cleaned_prodNm','label']]\n",
    "train_df.head()"
   ]
  },
  {
   "cell_type": "code",
   "execution_count": 2,
   "metadata": {
    "pycharm": {
     "is_executing": false
    }
   },
   "outputs": [],
   "source": [
    "# save file\n",
    "train_df.to_csv('data/tarin_prodNm.csv',encoding='euc-kr', index=False)"
   ]
  },
  {
   "cell_type": "code",
   "execution_count": 3,
   "metadata": {
    "pycharm": {
     "is_executing": false
    }
   },
   "outputs": [
    {
     "data": {
      "text/html": [
       "<div>\n",
       "<style scoped>\n",
       "    .dataframe tbody tr th:only-of-type {\n",
       "        vertical-align: middle;\n",
       "    }\n",
       "\n",
       "    .dataframe tbody tr th {\n",
       "        vertical-align: top;\n",
       "    }\n",
       "\n",
       "    .dataframe thead th {\n",
       "        text-align: right;\n",
       "    }\n",
       "</style>\n",
       "<table border=\"1\" class=\"dataframe\">\n",
       "  <thead>\n",
       "    <tr style=\"text-align: right;\">\n",
       "      <th></th>\n",
       "      <th>prodNm</th>\n",
       "      <th>cleaned_prodNm</th>\n",
       "      <th>label</th>\n",
       "    </tr>\n",
       "  </thead>\n",
       "  <tbody>\n",
       "    <tr>\n",
       "      <th>0</th>\n",
       "      <td>로얄단스크_버터쿠키/오트밀쿠키1kg/수입과자/간식</td>\n",
       "      <td>로얄단스크 버터쿠키 오트밀쿠키 kg 수입과자 간식</td>\n",
       "      <td>0</td>\n",
       "    </tr>\n",
       "    <tr>\n",
       "      <th>1</th>\n",
       "      <td>삼립 누네띠네12g 100입/사과맛쿠키/미니 꿀약과/삼립식품/과자</td>\n",
       "      <td>삼립 누네띠네 g 입 사과맛쿠키 미니 꿀약과 삼립식품 과자</td>\n",
       "      <td>0</td>\n",
       "    </tr>\n",
       "    <tr>\n",
       "      <th>2</th>\n",
       "      <td>식단조절 건강도시락 6종 6개 /칼로리 다운/</td>\n",
       "      <td>식단조절 건강도시락 종 개 칼로리 다운</td>\n",
       "      <td>0</td>\n",
       "    </tr>\n",
       "    <tr>\n",
       "      <th>3</th>\n",
       "      <td>들기름1.75리터/수입들깨100프로/업소기름/식당참기름</td>\n",
       "      <td>들기름 . 리터 수입들깨 프로 업소기름 식당참기름</td>\n",
       "      <td>0</td>\n",
       "    </tr>\n",
       "    <tr>\n",
       "      <th>4</th>\n",
       "      <td>식단조절 건강도시락 6종6개 /가벼운칼로리/여름준비/점심도시락</td>\n",
       "      <td>식단조절 건강도시락 종 개 가벼운칼로리 여름준비 점심도시락</td>\n",
       "      <td>0</td>\n",
       "    </tr>\n",
       "  </tbody>\n",
       "</table>\n",
       "</div>"
      ],
      "text/plain": [
       "                                 prodNm                    cleaned_prodNm  \\\n",
       "0           로얄단스크_버터쿠키/오트밀쿠키1kg/수입과자/간식       로얄단스크 버터쿠키 오트밀쿠키 kg 수입과자 간식   \n",
       "1  삼립 누네띠네12g 100입/사과맛쿠키/미니 꿀약과/삼립식품/과자  삼립 누네띠네 g 입 사과맛쿠키 미니 꿀약과 삼립식품 과자   \n",
       "2             식단조절 건강도시락 6종 6개 /칼로리 다운/             식단조절 건강도시락 종 개 칼로리 다운   \n",
       "3        들기름1.75리터/수입들깨100프로/업소기름/식당참기름       들기름 . 리터 수입들깨 프로 업소기름 식당참기름   \n",
       "4    식단조절 건강도시락 6종6개 /가벼운칼로리/여름준비/점심도시락  식단조절 건강도시락 종 개 가벼운칼로리 여름준비 점심도시락   \n",
       "\n",
       "   label  \n",
       "0      0  \n",
       "1      0  \n",
       "2      0  \n",
       "3      0  \n",
       "4      0  "
      ]
     },
     "execution_count": 3,
     "metadata": {},
     "output_type": "execute_result"
    }
   ],
   "source": [
    "train_df.head()"
   ]
  },
  {
   "cell_type": "markdown",
   "metadata": {},
   "source": [
    "## Word2vec trainer"
   ]
  },
  {
   "cell_type": "code",
   "execution_count": 11,
   "metadata": {},
   "outputs": [],
   "source": [
    "from gensim.models import Word2Vec, KeyedVectors\n",
    "import params\n",
    "\n",
    "cleaned_prodNm_list = title_df['cleaned_prodNm'].values.tolist()\n",
    "sentences = [i.split(' ')for i in cleaned_prodNm_list]\n",
    "\n",
    "model = Word2Vec(sentences, size=200, window = 5, min_count=1, workers = 16)\n",
    "model.wv.save_word2vec_format('{0}'.format(params.w2v_path), binary=True)"
   ]
  },
  {
   "cell_type": "code",
   "execution_count": 13,
   "metadata": {
    "pycharm": {
     "name": "#%%\n"
    }
   },
   "outputs": [
    {
     "data": {
      "text/plain": [
       "(41721, 200)"
      ]
     },
     "execution_count": 13,
     "metadata": {},
     "output_type": "execute_result"
    }
   ],
   "source": [
    "embed_lookup = KeyedVectors.load_word2vec_format('{0}'.format(params.w2v_path), \n",
    "                                                 binary=True)\n",
    "embed_lookup.vectors.shape"
   ]
  }
 ],
 "metadata": {
  "kernelspec": {
   "display_name": "Python 3",
   "language": "python",
   "name": "python3"
  },
  "language_info": {
   "codemirror_mode": {
    "name": "ipython",
    "version": 3
   },
   "file_extension": ".py",
   "mimetype": "text/x-python",
   "name": "python",
   "nbconvert_exporter": "python",
   "pygments_lexer": "ipython3",
   "version": "3.7.6"
  },
  "pycharm": {
   "stem_cell": {
    "cell_type": "raw",
    "source": [],
    "metadata": {
     "collapsed": false
    }
   }
  }
 },
 "nbformat": 4,
 "nbformat_minor": 4
}